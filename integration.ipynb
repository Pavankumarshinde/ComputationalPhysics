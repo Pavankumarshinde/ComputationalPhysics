{
 "cells": [
  {
   "cell_type": "code",
   "execution_count": 2,
   "metadata": {},
   "outputs": [],
   "source": [
    "from math import exp"
   ]
  },
  {
   "cell_type": "code",
   "execution_count": 3,
   "metadata": {},
   "outputs": [],
   "source": [
    "def f(x,y):\n",
    "    return exp(-x**2 -y**2)"
   ]
  },
  {
   "cell_type": "code",
   "execution_count": 10,
   "metadata": {},
   "outputs": [],
   "source": [
    "def simpson(farr,dx):\n",
    "    l=np.size(farr)\n",
    "    it=0.0\n",
    "    for i in range(0,l-2,2):\n",
    "        it+= dx/3 * ( farr[i] +4*farr[i+1] +farr[i+2])\n",
    "    return it"
   ]
  },
  {
   "cell_type": "code",
   "execution_count": null,
   "metadata": {},
   "outputs": [],
   "source": [
    "def densityIntegration():\n",
    "    "
   ]
  },
  {
   "cell_type": "code",
   "execution_count": null,
   "metadata": {},
   "outputs": [
    {
     "name": "stdout",
     "output_type": "stream",
     "text": [
      "1.9852006182527568\n"
     ]
    }
   ],
   "source": [
    "\n",
    "\n",
    "# -*- coding: utf-8 -*-\n",
    "\"\"\"\n",
    "Created on Tue Jan 21 11:40:13 2025\n",
    "\n",
    "@author: Kirit\n",
    "\"\"\"\n",
    "\n",
    "import numpy as np\n",
    "\n",
    "\n",
    "def simpson(farr,Dx):\n",
    "    l = np.size(farr)\n",
    "    it = 0.0\n",
    "    for i in range(0,l-2,2):\n",
    "        it += (Dx/3.0)*(farr[i]+4*farr[i+1]+farr[i+2])\n",
    "    return it\n",
    "       \n"
   ]
  },
  {
   "cell_type": "code",
   "execution_count": null,
   "metadata": {},
   "outputs": [],
   "source": [
    "def func(x,y):\n",
    "    return np.exp(-x**2-y**2)\n"
   ]
  },
  {
   "cell_type": "code",
   "execution_count": 4,
   "metadata": {},
   "outputs": [
    {
     "name": "stdout",
     "output_type": "stream",
     "text": [
      "1.9852006182527568\n"
     ]
    }
   ],
   "source": [
    "\n",
    "\n",
    "N=80\n",
    "\n",
    "garr = np.zeros(N+1)\n",
    "farr = np.zeros(N+1)\n",
    "xarr = np.linspace(-1,1,N+1)\n",
    "\n",
    "for i in range (0,N+1):\n",
    "    if (i==0 or i==N):\n",
    "        garr[i]=0\n",
    "    else:\n",
    "        xval = xarr[i]\n",
    "        ymin = -np.sqrt(1-xval**2)\n",
    "        ymax = -ymin\n",
    "        yarr = np.linspace(ymin,ymax,N+1)\n",
    "        for j in range (0,N+1):\n",
    "            yval = yarr[j]\n",
    "            farr[j]=func(xval,yval)\n",
    "        garr[i]=simpson(farr,(ymax-ymin)/N)\n",
    "        \n",
    "integral = simpson(garr,2.0/N)\n",
    "\n",
    "\n",
    "print(integral)\n",
    "\n"
   ]
  },
  {
   "cell_type": "code",
   "execution_count": null,
   "metadata": {},
   "outputs": [],
   "source": []
  },
  {
   "cell_type": "code",
   "execution_count": null,
   "metadata": {},
   "outputs": [],
   "source": []
  }
 ],
 "metadata": {
  "kernelspec": {
   "display_name": "Python 3",
   "language": "python",
   "name": "python3"
  },
  "language_info": {
   "codemirror_mode": {
    "name": "ipython",
    "version": 3
   },
   "file_extension": ".py",
   "mimetype": "text/x-python",
   "name": "python",
   "nbconvert_exporter": "python",
   "pygments_lexer": "ipython3",
   "version": "3.10.12"
  }
 },
 "nbformat": 4,
 "nbformat_minor": 2
}
